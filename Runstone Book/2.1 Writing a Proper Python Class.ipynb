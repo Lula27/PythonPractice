{
 "cells": [
  {
   "cell_type": "code",
   "execution_count": 1,
   "metadata": {},
   "outputs": [],
   "source": [
    "# Create a die class - Basic implementation of MSDie class\n",
    "\n",
    "import random \n",
    "\n",
    "class MSDie:\n",
    "    # Multi-sided die\n",
    "    # Instance Variables: current_value, num_sides\n",
    "    \n",
    "    # Initialize the multisided dice class\n",
    "    def __init__(self, num_sides):\n",
    "        self.num_sides = num_sides\n",
    "        self.current_value = self.roll()\n",
    "     \n",
    "    # Method for each roll\n",
    "    def roll(self):\n",
    "        self.current_value = random.randrange(1, self.num_sides+1)\n",
    "        return self.current_value\n",
    "      "
   ]
  },
  {
   "cell_type": "code",
   "execution_count": 4,
   "metadata": {},
   "outputs": [
    {
     "name": "stdout",
     "output_type": "stream",
     "text": [
      "<__main__.MSDie object at 0x000001EBB02C9AC8> 5\n",
      "<__main__.MSDie object at 0x000001EBB02C9AC8> 1\n",
      "<__main__.MSDie object at 0x000001EBB02C9AC8> 4\n",
      "<__main__.MSDie object at 0x000001EBB02C9AC8> 2\n",
      "<__main__.MSDie object at 0x000001EBB02C9AC8> 4\n"
     ]
    }
   ],
   "source": [
    "# Get first instance of dice\n",
    "\n",
    "my_die = MSDie(6)\n",
    "for i in range(5):\n",
    "    print(my_die, my_die.current_value)\n",
    "    my_die.roll()"
   ]
  },
  {
   "cell_type": "code",
   "execution_count": 5,
   "metadata": {},
   "outputs": [
    {
     "name": "stdout",
     "output_type": "stream",
     "text": [
      "[<__main__.MSDie object at 0x000001EBAE4DB688>, <__main__.MSDie object at 0x000001EBB02CB648>]\n"
     ]
    }
   ],
   "source": [
    "d_list = [MSDie(6), MSDie(20)]\n",
    "\n",
    "print(d_list)"
   ]
  },
  {
   "cell_type": "markdown",
   "metadata": {},
   "source": [
    "Lets fix up the representation to make printing and interacting with the die a bit more convenient. For this we will implement the __str__ and __repr__ magic methods.\n"
   ]
  },
  {
   "cell_type": "code",
   "execution_count": 7,
   "metadata": {},
   "outputs": [
    {
     "name": "stdout",
     "output_type": "stream",
     "text": [
      "3\n",
      "6\n",
      "1\n",
      "1\n",
      "2\n",
      "[MSDie(6) : 4, MSDie(20) : 19]\n"
     ]
    }
   ],
   "source": [
    "import random\n",
    "\n",
    "class MSDie:\n",
    "    \"\"\"\n",
    "    Multi-sided die\n",
    "\n",
    "    Instance Variables:\n",
    "        current_value\n",
    "        num_sides\n",
    "\n",
    "    \"\"\"\n",
    "\n",
    "    def __init__(self, num_sides):\n",
    "        self.num_sides = num_sides\n",
    "        self.current_value = self.roll()\n",
    "\n",
    "    def roll(self):\n",
    "        self.current_value = random.randrange(1,self.num_sides+1)\n",
    "        return self.current_value\n",
    "\n",
    "    def __str__(self):\n",
    "        return str(self.current_value)\n",
    "\n",
    "    def __repr__(self):\n",
    "        return \"MSDie({}) : {}\".format(self.num_sides, self.current_value)\n",
    "\n",
    "\n",
    "my_die = MSDie(6)\n",
    "for i in range(5):\n",
    "    print(my_die)\n",
    "    my_die.roll()\n",
    "\n",
    "d_list = [MSDie(6), MSDie(20)]\n",
    "print(d_list)\n"
   ]
  },
  {
   "cell_type": "markdown",
   "metadata": {},
   "source": [
    "# 2.2. Making your Class Comparable"
   ]
  },
  {
   "cell_type": "markdown",
   "metadata": {},
   "source": [
    "With Python we get to decide what it means for two dice to be equal to each other. We express what that means in code by writing the __eq__ method for our MSDie class. Not only does this allow us to define the rules but it also allows us to use the standard operators in our code, for example we could write die1 == die2 to check if they are equal. Further, we can write several different methods for all manner of comparisons that we may want to make including:\n",
    "\n",
    "__lt__ less than <\n",
    "\n",
    "__gt__ greater than >\n",
    "\n",
    "__eq__ equal to ==\n",
    "\n",
    "__le__ less than or equal to <=\n",
    "\n",
    "__ge__ greater than or equal to >=\n",
    "\n",
    "__ne__ not equal to !=\n",
    "\n",
    "Let us look at an implementation of the __eq__ method."
   ]
  },
  {
   "cell_type": "code",
   "execution_count": 8,
   "metadata": {},
   "outputs": [],
   "source": [
    "class MSDie:\n",
    "    \"\"\"\n",
    "    Multi-sided die\n",
    "\n",
    "    Instance Variables:\n",
    "        current_value\n",
    "        num_sides\n",
    "\n",
    "    \"\"\"\n",
    "\n",
    "    def __init__(self, num_sides):\n",
    "        self.num_sides = num_sides\n",
    "        self.current_value = self.roll()\n",
    "\n",
    "    def roll(self):\n",
    "        self.current_value = random.randrange(1,self.num_sides+1)\n",
    "        return self.current_value\n",
    "\n",
    "    def __str__(self):\n",
    "        return str(self.current_value)\n",
    "\n",
    "    def __repr__(self):\n",
    "        return \"MSDie({}) : {}\".format(self.num_sides, self.current_value)\n",
    "\n",
    "    def __eq__(self,other):\n",
    "        return self.current_value == other.current_value\n",
    "\n",
    "    def __lt__(self,other):\n",
    "        return self.current_value < other.current_value\n",
    "\n",
    "    def __le__(self, other):\n",
    "        return self.current_value <= other.current_value\n"
   ]
  },
  {
   "cell_type": "code",
   "execution_count": 9,
   "metadata": {},
   "outputs": [
    {
     "name": "stdout",
     "output_type": "stream",
     "text": [
      "False\n",
      "False\n",
      "True\n",
      "True\n",
      "False\n",
      "True\n",
      "False\n"
     ]
    }
   ],
   "source": [
    "x = MSDie(6)\n",
    "y = MSDie(7)\n",
    "\n",
    "x.current_value = 6\n",
    "y.current_value = 5\n",
    "\n",
    "print(x == y)\n",
    "print(x < y)\n",
    "print(x > y)\n",
    "print(x != y)\n",
    "print(x<=y)\n",
    "print(x>=y)\n",
    "print(x is y)"
   ]
  },
  {
   "cell_type": "code",
   "execution_count": 10,
   "metadata": {},
   "outputs": [
    {
     "name": "stdout",
     "output_type": "stream",
     "text": [
      "True\n"
     ]
    }
   ],
   "source": [
    "print(x > y)"
   ]
  },
  {
   "cell_type": "code",
   "execution_count": 11,
   "metadata": {},
   "outputs": [
    {
     "name": "stdout",
     "output_type": "stream",
     "text": [
      "True\n"
     ]
    }
   ],
   "source": [
    "print(x != y)"
   ]
  },
  {
   "cell_type": "code",
   "execution_count": 15,
   "metadata": {},
   "outputs": [],
   "source": [
    "def __eq__(self,other):\n",
    "    return self.current_value == other.current_value"
   ]
  },
  {
   "cell_type": "code",
   "execution_count": 16,
   "metadata": {},
   "outputs": [],
   "source": [
    "def __gt__(self,other):\n",
    "    return self.current_value > other.current_value"
   ]
  },
  {
   "cell_type": "code",
   "execution_count": 17,
   "metadata": {},
   "outputs": [],
   "source": [
    "def __ge__(self,other):\n",
    "    return self.current_value >= other.current_value"
   ]
  },
  {
   "cell_type": "code",
   "execution_count": null,
   "metadata": {},
   "outputs": [],
   "source": []
  }
 ],
 "metadata": {
  "kernelspec": {
   "display_name": "Python 3",
   "language": "python",
   "name": "python3"
  },
  "language_info": {
   "codemirror_mode": {
    "name": "ipython",
    "version": 3
   },
   "file_extension": ".py",
   "mimetype": "text/x-python",
   "name": "python",
   "nbconvert_exporter": "python",
   "pygments_lexer": "ipython3",
   "version": "3.7.4"
  }
 },
 "nbformat": 4,
 "nbformat_minor": 2
}
