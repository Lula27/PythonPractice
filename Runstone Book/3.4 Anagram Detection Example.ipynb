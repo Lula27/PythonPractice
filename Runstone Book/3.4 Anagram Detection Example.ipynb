{
 "cells": [
  {
   "cell_type": "markdown",
   "metadata": {},
   "source": [
    "# 3.4. An Anagram Detection Example\n",
    "https://runestone.academy/runestone/books/published/pythonds3/AlgorithmAnalysis/AnAnagramDetectionExample.html \n",
    "\n",
    "A good example problem for showing algorithms with different orders of magnitude is the classic anagram detection problem for strings. One string is an anagram of another if the second is simply a rearrangement of the first. For example, \"heart\" and \"earth\" are anagrams. The strings \"python\" and \"typhon\" are anagrams as well. For the sake of simplicity, we will assume that the two strings in question are of equal length and that they are made up of symbols from the set of 26 lowercase alphabetic characters. Our goal is to write a boolean function that will take two strings and return whether they are anagrams."
   ]
  },
  {
   "cell_type": "markdown",
   "metadata": {},
   "source": [
    "## 3.4.1. Solution 1: Checking Off\n",
    "Not the best solution. Too much code. Not very efficient"
   ]
  },
  {
   "cell_type": "code",
   "execution_count": 1,
   "metadata": {},
   "outputs": [],
   "source": [
    "# Define function and pass in 2 parameters\n",
    "def anagram_solution_1(s1, s2):\n",
    "    still_ok = True\n",
    "    if len(s1) != len(s2):\n",
    "        still_ok = False\n",
    "        \n",
    "    a_list = list(s2)\n",
    "    pos_1 = 0 \n",
    "    \n",
    "    while pos_1 < len(s1) and still_ok:\n",
    "        pos_2 = 0 \n",
    "        found = False\n",
    "        while pos_2 < len(a_list) and not found:\n",
    "            if s1[pos_1] == a_list[pos_2]:\n",
    "                found = True \n",
    "            else: \n",
    "                pos_2 = pos_2 +1\n",
    "                \n",
    "        if found:\n",
    "            a_list[pos_2] = None\n",
    "        else: \n",
    "            still_ok = False\n",
    "            \n",
    "        pos_1 = pos_1 + 1\n",
    "    \n",
    "    return still_ok"
   ]
  },
  {
   "cell_type": "code",
   "execution_count": 2,
   "metadata": {},
   "outputs": [
    {
     "name": "stdout",
     "output_type": "stream",
     "text": [
      "True\n"
     ]
    }
   ],
   "source": [
    "# Function with arguements\n",
    "\n",
    "print(anagram_solution_1(\"apple\", \"pleap\"))"
   ]
  },
  {
   "cell_type": "code",
   "execution_count": 4,
   "metadata": {},
   "outputs": [
    {
     "name": "stdout",
     "output_type": "stream",
     "text": [
      "True\n"
     ]
    }
   ],
   "source": [
    "print(anagram_solution_1(\"abcd\", \"dcba\"))"
   ]
  },
  {
   "cell_type": "code",
   "execution_count": 5,
   "metadata": {},
   "outputs": [
    {
     "name": "stdout",
     "output_type": "stream",
     "text": [
      "False\n"
     ]
    }
   ],
   "source": [
    "print(anagram_solution_1(\"abcd\", \"dcda\"))"
   ]
  },
  {
   "cell_type": "markdown",
   "metadata": {},
   "source": [
    "# 3.4.2. Solution 2: Sort and Compare"
   ]
  },
  {
   "cell_type": "code",
   "execution_count": 6,
   "metadata": {},
   "outputs": [],
   "source": [
    "def anagram_solution_2(s1, s2):\n",
    "    a_list_1 = list(s1)\n",
    "    a_list_2 = list(s2)\n",
    "    \n",
    "    a_list_1.sort()\n",
    "    a_list_2.sort()\n",
    "    \n",
    "    pos = 0 \n",
    "    matches = True \n",
    "    \n",
    "    while pos < len(s1) and matches:\n",
    "        if a_list_1[pos] == a_list_2[pos]:\n",
    "            pos = pos + 1\n",
    "        else: \n",
    "            matches = False \n",
    "    return matches"
   ]
  },
  {
   "cell_type": "code",
   "execution_count": 7,
   "metadata": {},
   "outputs": [
    {
     "name": "stdout",
     "output_type": "stream",
     "text": [
      "True\n"
     ]
    }
   ],
   "source": [
    "# Function with arguements\n",
    "\n",
    "print(anagram_solution_2(\"apple\", \"pleap\"))"
   ]
  },
  {
   "cell_type": "code",
   "execution_count": 8,
   "metadata": {},
   "outputs": [
    {
     "name": "stdout",
     "output_type": "stream",
     "text": [
      "True\n"
     ]
    }
   ],
   "source": [
    "print(anagram_solution_2(\"abcd\", \"dcba\"))"
   ]
  },
  {
   "cell_type": "code",
   "execution_count": 9,
   "metadata": {},
   "outputs": [
    {
     "name": "stdout",
     "output_type": "stream",
     "text": [
      "False\n"
     ]
    }
   ],
   "source": [
    "print(anagram_solution_2(\"abcd\", \"dcda\"))"
   ]
  },
  {
   "cell_type": "markdown",
   "metadata": {},
   "source": [
    "# 3.4.4. Solution 4: Count and Compare"
   ]
  },
  {
   "cell_type": "code",
   "execution_count": 10,
   "metadata": {},
   "outputs": [],
   "source": [
    "def anagram_solution_4(s1, s2):\n",
    "    c1 = [0] * 26\n",
    "    c2 = [0] * 26\n",
    "    \n",
    "    for i in range(len(s1)):\n",
    "        pos = ord(s1[i]) - ord(\"a\")\n",
    "        c1[pos] = c1[pos] + 1\n",
    "        \n",
    "    for i in range(len(s2)):\n",
    "        pos = ord(s2[i]) - ord(\"a\")\n",
    "        c2[pos] = c2[pos] + 1\n",
    "    \n",
    "    j = 0 \n",
    "    still_ok = True\n",
    "    while j < 26 and still_ok: \n",
    "        if c1[j] == c2[j]:\n",
    "            j = j + 1\n",
    "        else: \n",
    "            still_ok = False\n",
    "            \n",
    "    return still_ok\n",
    "    "
   ]
  },
  {
   "cell_type": "code",
   "execution_count": 11,
   "metadata": {},
   "outputs": [
    {
     "name": "stdout",
     "output_type": "stream",
     "text": [
      "True\n"
     ]
    }
   ],
   "source": [
    "# Function with arguements\n",
    "\n",
    "print(anagram_solution_4(\"apple\", \"pleap\"))"
   ]
  },
  {
   "cell_type": "code",
   "execution_count": 12,
   "metadata": {},
   "outputs": [
    {
     "name": "stdout",
     "output_type": "stream",
     "text": [
      "True\n"
     ]
    }
   ],
   "source": [
    "print(anagram_solution_4(\"abcd\", \"dcba\"))"
   ]
  },
  {
   "cell_type": "code",
   "execution_count": 13,
   "metadata": {},
   "outputs": [
    {
     "name": "stdout",
     "output_type": "stream",
     "text": [
      "False\n"
     ]
    }
   ],
   "source": [
    "print(anagram_solution_4(\"abcd\", \"dcda\"))"
   ]
  },
  {
   "cell_type": "markdown",
   "metadata": {},
   "source": [
    "# My Solution "
   ]
  },
  {
   "cell_type": "code",
   "execution_count": null,
   "metadata": {},
   "outputs": [],
   "source": [
    "# Function that determines if 2 words are anagrams \n",
    "# Input: 2 strings - immutable so use lists \n",
    "# Output: statement:\"Yes, these words are anagrams.\"\n",
    "\n",
    "def anagrammer(s1, s2):\n",
    "    "
   ]
  }
 ],
 "metadata": {
  "kernelspec": {
   "display_name": "Python 3",
   "language": "python",
   "name": "python3"
  },
  "language_info": {
   "codemirror_mode": {
    "name": "ipython",
    "version": 3
   },
   "file_extension": ".py",
   "mimetype": "text/x-python",
   "name": "python",
   "nbconvert_exporter": "python",
   "pygments_lexer": "ipython3",
   "version": "3.7.4"
  }
 },
 "nbformat": 4,
 "nbformat_minor": 2
}
